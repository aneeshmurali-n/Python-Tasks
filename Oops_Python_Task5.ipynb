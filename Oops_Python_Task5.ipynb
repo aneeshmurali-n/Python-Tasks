{
  "nbformat": 4,
  "nbformat_minor": 0,
  "metadata": {
    "colab": {
      "provenance": [],
      "authorship_tag": "ABX9TyOcDHWpRKJo07Gz9UhRzNwQ",
      "include_colab_link": true
    },
    "kernelspec": {
      "name": "python3",
      "display_name": "Python 3"
    },
    "language_info": {
      "name": "python"
    }
  },
  "cells": [
    {
      "cell_type": "markdown",
      "metadata": {
        "id": "view-in-github",
        "colab_type": "text"
      },
      "source": [
        "<a href=\"https://colab.research.google.com/github/aneeshmurali-n/Python-Tasks/blob/main/Oops_Python_Task5.ipynb\" target=\"_parent\"><img src=\"https://colab.research.google.com/assets/colab-badge.svg\" alt=\"Open In Colab\"/></a>"
      ]
    },
    {
      "cell_type": "markdown",
      "source": [
        "#1.  Write a Python program to create a class representing a Circle. Include methods to calculate its area and perimeter."
      ],
      "metadata": {
        "id": "Jj5T4MVREnIR"
      }
    },
    {
      "cell_type": "markdown",
      "source": [
        "<p>area = πr²<br>\n",
        "perimeter = 2πr</p>\n",
        "pi = 3.141592653589793"
      ],
      "metadata": {
        "id": "PBM4xlkmFBG4"
      }
    },
    {
      "cell_type": "code",
      "source": [
        "class Circle:                           # create Circle class\n",
        "    pi = 3.141592653589793              # definig value of π\n",
        "    radius = 0.0\n",
        "    def area(self):                     # methode to calculate area\n",
        "        return Circle.pi*self.radius**2\n",
        "    def perimeter(self):                # methode to calculate perimeter\n",
        "        return 2*Circle.pi*self.radius\n",
        "\n",
        " # create object of Circle class\n",
        "circle1 = Circle()\n",
        "\n",
        "# prompt the user to enter circle radius and assign the value to attribute 'radius'\n",
        "circle1.radius = float(input(\"Enter radius of circle : \"))\n",
        "# print the calculated results\n",
        "print(f\"Area = {circle1.area()}\\n Perimeter = {circle1.perimeter()}\")"
      ],
      "metadata": {
        "colab": {
          "base_uri": "https://localhost:8080/"
        },
        "id": "WrccuMxoEsdg",
        "outputId": "e68a3893-99a5-43b9-a65c-3e47dceb6924"
      },
      "execution_count": 27,
      "outputs": [
        {
          "output_type": "stream",
          "name": "stdout",
          "text": [
            "Enter radius of circle : 5\n",
            "Area = 78.53981633974483\n",
            " Perimeter = 31.41592653589793\n"
          ]
        }
      ]
    },
    {
      "cell_type": "markdown",
      "source": [
        "#2. Write a Python program to create a calculator class. Include methods for basic arithmetic operations."
      ],
      "metadata": {
        "id": "QZJsdKqvRiKC"
      }
    },
    {
      "cell_type": "code",
      "source": [
        "# Define a Calculator class to perform basic arithmetic operations\n",
        "class Calculator:\n",
        "    # Initialize the calculator with two numbers\n",
        "    def __init__(self, num1, num2):\n",
        "        self.num1 = num1\n",
        "        self.num2 = num2\n",
        "\n",
        "    # Method to add the two numbers\n",
        "    def add(self):\n",
        "        return self.num1 + self.num2\n",
        "\n",
        "    # Method to subtract the second number from the first\n",
        "    def sub(self):\n",
        "        return self.num1 - self.num2\n",
        "\n",
        "    # Method to multiply the two numbers\n",
        "    def mul(self):\n",
        "        return self.num1 * self.num2\n",
        "\n",
        "    # Method to divide the first number by the second\n",
        "    def div(self):\n",
        "        return self.num1 / self.num2\n",
        "\n",
        "# Function to format the number to remove unnecessary decimal places\n",
        "def formatNum(num):\n",
        "    if num % 1 == 0:  # If the number is an integer\n",
        "        return int(num)\n",
        "    else:\n",
        "        return num\n",
        "\n",
        "# Prompt the user to enter the numbers and operator\n",
        "print(\"To perform Calculation\")\n",
        "user_data = input(\"Enter number1, number2, operator.  eg: 1,2,+ or - or * or /    :   \").split(',')\n",
        "\n",
        "# Check if the user input is in the correct format and contains a valid operator\n",
        "if len(user_data) == 3 and user_data[2] in ('+', '-', '*', '/'):\n",
        "    n1 = float(user_data[0])  # Convert the first input to a float\n",
        "    n2 = float(user_data[1])  # Convert the second input to a float\n",
        "    op = user_data[2]  # Get the operator\n",
        "    calcNumbers = Calculator(n1, n2)  # Create an instance of the Calculator class\n",
        "\n",
        "    # Perform the operation based on the operator and print the result\n",
        "    if op == '+':\n",
        "        print(f\"{user_data[0]} + {user_data[1]} = {formatNum(calcNumbers.add())}\")\n",
        "    elif op == '-':\n",
        "        print(f\"{user_data[0]} - {user_data[1]} = {formatNum(calcNumbers.sub())}\")\n",
        "    elif op == '*':\n",
        "        print(f\"{user_data[0]} * {user_data[1]} = {formatNum(calcNumbers.mul())}\")\n",
        "    elif op == '/':\n",
        "        print(f\"{user_data[0]} / {user_data[1]} = {formatNum(calcNumbers.div())}\")\n",
        "else:\n",
        "    # Print an error message if the input format is incorrect\n",
        "    print(\"Entered input is in incorrect format\")\n",
        "\n"
      ],
      "metadata": {
        "colab": {
          "base_uri": "https://localhost:8080/"
        },
        "id": "CSfo1mfEw7uh",
        "outputId": "2078c5e2-75e0-4a41-9e0f-409783cacd2c"
      },
      "execution_count": 69,
      "outputs": [
        {
          "output_type": "stream",
          "name": "stdout",
          "text": [
            "To perform Calculation\n",
            "Enter number1, number2, operator.  eg: 1,2,+ or - or * or /    :   10,2,/\n",
            "10 / 2 = 5\n"
          ]
        }
      ]
    },
    {
      "cell_type": "markdown",
      "source": [
        "#3. Write a Python program to create a class that represents a shape. Include methods to calculate its area and perimeter. Implement subclasses for different shapes like circle, triangle, and square."
      ],
      "metadata": {
        "id": "1iGJrHAZgHrr"
      }
    },
    {
      "cell_type": "code",
      "source": [
        "# Define a base class for shapes\n",
        "class Shape:\n",
        "    # Class variable for the value of pi\n",
        "    pi = 3.141592653589793\n",
        "\n",
        "    # Method to be overridden by subclasses to calculate the area\n",
        "    def area(self):\n",
        "        pass\n",
        "\n",
        "    # Method to be overridden by subclasses to calculate the perimeter\n",
        "    def perimeter(self):\n",
        "        pass\n",
        "\n",
        "# Define a subclass for circles, inheriting from Shape\n",
        "class Circle(Shape):\n",
        "    # Initialize the circle with a radius\n",
        "    def __init__(self, radius):\n",
        "        self.radius = radius\n",
        "\n",
        "    # Override the area method to calculate the area of the circle\n",
        "    def area(self):\n",
        "        return Shape.pi * self.radius ** 2\n",
        "\n",
        "    # Override the perimeter method to calculate the perimeter of the circle\n",
        "    def perimeter(self):\n",
        "        return 2 * Shape.pi * self.radius\n",
        "\n",
        "# Define a subclass for rectangles, inheriting from Shape\n",
        "class Rectangle(Shape):\n",
        "    # Initialize the rectangle with a length and a breadth\n",
        "    def __init__(self, length, breadth):\n",
        "        self.length = length\n",
        "        self.breadth = breadth\n",
        "\n",
        "    # Override the area method to calculate the area of the rectangle\n",
        "    def area(self):\n",
        "        return self.length * self.breadth\n",
        "\n",
        "    # Override the perimeter method to calculate the perimeter of the rectangle\n",
        "    def perimeter(self):\n",
        "        return 2 * (self.length + self.breadth)\n",
        "\n",
        "# Define a subclass for triangles, inheriting from Shape\n",
        "class Triangle(Shape):\n",
        "    # Initialize the triangle with sides a, b, c and a height for area calculation\n",
        "    def __init__(self, a, b, c, height):\n",
        "        self.a = a\n",
        "        self.b = b\n",
        "        self.c = c\n",
        "        self.height = height\n",
        "\n",
        "    # Override the area method to calculate the area of the triangle\n",
        "    def area(self):\n",
        "        return 0.5 * self.b * self.height\n",
        "\n",
        "    # Override the perimeter method to calculate the perimeter of the triangle\n",
        "    def perimeter(self):\n",
        "        return self.a + self.b + self.c\n",
        "\n",
        "# Create an instance of Circle with radius 3\n",
        "circle = Circle(3)\n",
        "# Print the area and perimeter of the circle\n",
        "print(f\"Circle Area: {circle.area()}\")\n",
        "print(f\"Circle Perimeter: {circle.perimeter()}\")\n",
        "\n",
        "# Create an instance of Rectangle with length 8 and breadth 16\n",
        "rectangle = Rectangle(8, 16)\n",
        "# Print the area and perimeter of the rectangle\n",
        "print(f\"Rectangle Area: {rectangle.area()}\")\n",
        "print(f\"Rectangle Perimeter: {rectangle.perimeter()}\")\n",
        "\n",
        "# Create an instance of Triangle with sides 4, 7, 5.5 and height 3\n",
        "triangle = Triangle(4, 7, 5.5, 3)\n",
        "# Print the area and perimeter of the triangle\n",
        "print(f\"Triangle Area: {triangle.area()}\")\n",
        "print(f\"Triangle Perimeter: {triangle.perimeter()}\")\n"
      ],
      "metadata": {
        "colab": {
          "base_uri": "https://localhost:8080/"
        },
        "id": "vh4qw2_zwFSZ",
        "outputId": "68aeebb1-e7b0-4c39-f42f-a85caeb964ba"
      },
      "execution_count": 64,
      "outputs": [
        {
          "output_type": "stream",
          "name": "stdout",
          "text": [
            "Circle Area: 28.274333882308138\n",
            "Circle Perimeter: 18.84955592153876\n",
            "Rectangle Area: 128\n",
            "Rectangle Perimeter: 48\n",
            "Triangle Area: 10.5\n",
            "Triangle Perimeter: 16.5\n"
          ]
        }
      ]
    }
  ]
}