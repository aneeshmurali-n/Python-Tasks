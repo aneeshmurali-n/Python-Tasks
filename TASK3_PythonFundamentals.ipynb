{
  "nbformat": 4,
  "nbformat_minor": 0,
  "metadata": {
    "colab": {
      "provenance": [],
      "authorship_tag": "ABX9TyNEBsnRBNG9wSEWdihWQ1qK",
      "include_colab_link": true
    },
    "kernelspec": {
      "name": "python3",
      "display_name": "Python 3"
    },
    "language_info": {
      "name": "python"
    }
  },
  "cells": [
    {
      "cell_type": "markdown",
      "metadata": {
        "id": "view-in-github",
        "colab_type": "text"
      },
      "source": [
        "<a href=\"https://colab.research.google.com/github/aneeshmurali-n/Python-Tasks/blob/main/TASK3_PythonFundamentals.ipynb\" target=\"_parent\"><img src=\"https://colab.research.google.com/assets/colab-badge.svg\" alt=\"Open In Colab\"/></a>"
      ]
    },
    {
      "cell_type": "markdown",
      "source": [
        "#Exercise 1  \n",
        "##Write Python code that prints your name, student number and email address.  \n",
        "###An example runs of the program:  \n",
        "<p>\n",
        "Bob<br>\n",
        "ST1001<br>\n",
        "bob@gmail.com\n",
        "</p>"
      ],
      "metadata": {
        "id": "XO3peJXQrmtr"
      }
    },
    {
      "cell_type": "code",
      "execution_count": 6,
      "metadata": {
        "colab": {
          "base_uri": "https://localhost:8080/"
        },
        "id": "sAEmxOxbrilj",
        "outputId": "8bcd6faa-f94d-4fdf-8d58-4c18234447e3"
      },
      "outputs": [
        {
          "output_type": "stream",
          "name": "stdout",
          "text": [
            "Enter your name : Bob\n",
            "Enter student number : ST1001\n",
            "Enter your email address : bob@gmail.com\n",
            "\n",
            "Bob\n",
            "ST1001\n",
            "bob@gmail.com\n"
          ]
        }
      ],
      "source": [
        "name = input(\"Enter your name : \")\n",
        "student_number = input(\"Enter student number : \")\n",
        "email = input(\"Enter your email address : \")\n",
        "print(\"\")\n",
        "print(name)\n",
        "print(student_number)\n",
        "print(email)"
      ]
    },
    {
      "cell_type": "markdown",
      "source": [
        "#Exercise 2\n",
        "##Write Python code that prints your name, student number and email address using escape sequences.\n",
        "###An example runs of the program:\n",
        "<p>\n",
        "Bob<br>\n",
        "ST1001<br>\n",
        "bob@gmail.com\n",
        "</p>    "
      ],
      "metadata": {
        "id": "EYjCZ0WRuB36"
      }
    },
    {
      "cell_type": "code",
      "source": [
        "name = input(\"Enter your name : \")\n",
        "student_number = input(\"Enter student number : \")\n",
        "email = input(\"Enter your email address : \")\n",
        "print(f\"\\n\\n{name}\\n{student_number}\\n{email}\")"
      ],
      "metadata": {
        "colab": {
          "base_uri": "https://localhost:8080/"
        },
        "id": "WcFc1rmRux9E",
        "outputId": "3e08fe61-6aaa-46aa-a501-e6c8ce8b633b"
      },
      "execution_count": 7,
      "outputs": [
        {
          "output_type": "stream",
          "name": "stdout",
          "text": [
            "Enter your name : Bob\n",
            "Enter student number : ST1001\n",
            "Enter your email address : bob@gmail.com\n",
            "\n",
            "\n",
            "Bob\n",
            "ST1001\n",
            "bob@gmail.com\n"
          ]
        }
      ]
    },
    {
      "cell_type": "markdown",
      "source": [
        "#Exercise 3\n",
        "##Write Python code that add, subtract, multiply and divide the two numbers. You can use the two numbers 14 and 7.\n",
        "###An example run of the program:  \n",
        "<p>\n",
        "14 + 7 = 21<br>\n",
        "14 * 7 = 98<br>\n",
        "14 – 7 = 7<br>\n",
        "14 / 7 = 2\n",
        "</p>"
      ],
      "metadata": {
        "id": "nFgqdvIpvm_U"
      }
    },
    {
      "cell_type": "code",
      "source": [
        "num_a = int(input(\"Enter the first number : \"))\n",
        "num_b = int(input(\"Enter the second number : \"))\n",
        "div_str = str(num_a / num_b)\n",
        "if div_str.split('.')[1] == '0': # after devide if the desimal part is zero (.0)\n",
        "    div =  div_str.split('.')[0] # set div = int part of the number\n",
        "else:\n",
        "    div = div_str\n",
        "print(f\"\\n{num_a} + {num_b} = {num_a+num_b}\\n{num_a} * {num_b} = {num_a*num_b}\\n{num_a} - {num_b} = {num_a-num_b}\\n{num_a} / {num_b} = {div}\")"
      ],
      "metadata": {
        "colab": {
          "base_uri": "https://localhost:8080/"
        },
        "id": "xD4T1Aj-wKJc",
        "outputId": "cb2f1e98-5303-44a6-fa96-ff0631572888"
      },
      "execution_count": 21,
      "outputs": [
        {
          "output_type": "stream",
          "name": "stdout",
          "text": [
            "Enter the first number : 14\n",
            "Enter the second number : 7\n",
            "\n",
            "14 + 7 = 21\n",
            "14 * 7 = 98\n",
            "14 - 7 = 7\n",
            "14 / 7 = 2\n"
          ]
        }
      ]
    },
    {
      "cell_type": "markdown",
      "source": [
        "#Exercise 4\n",
        "##Write Python code that displays the numbers from 1 to 5 as steps.\n",
        "###An example runs of the program:\n",
        "<p>\n",
        "1<br>2<br>3<br>4<br>5\n",
        "</p>"
      ],
      "metadata": {
        "id": "nAMqUNjB2x23"
      }
    },
    {
      "cell_type": "code",
      "source": [
        "for num in range(1,6):\n",
        "    print(num)"
      ],
      "metadata": {
        "colab": {
          "base_uri": "https://localhost:8080/"
        },
        "id": "tgOmxeEj3TT3",
        "outputId": "84c9e133-c5cc-42d1-f370-f8252b92d8f1"
      },
      "execution_count": 22,
      "outputs": [
        {
          "output_type": "stream",
          "name": "stdout",
          "text": [
            "1\n",
            "2\n",
            "3\n",
            "4\n",
            "5\n"
          ]
        }
      ]
    },
    {
      "cell_type": "markdown",
      "source": [
        "#Exercise 5\n",
        "##Write Python code that outputs the following sentence (including the quotation marks and line break) to the screen:\n",
        "###An example runs of the program:  \n",
        "<p>\n",
        "\"SDK\" stands for \"Software Development Kit\", whereas<br>\n",
        "\"IDE\" stands for \"Integrated Development Environment\".\n",
        "</p>"
      ],
      "metadata": {
        "id": "WC-jhWO23msI"
      }
    },
    {
      "cell_type": "code",
      "source": [
        "print('\"SDK\" stands for \"Software Development Kit\", whereas\\n\"IDE\" stands for \"Integrated Development Environment\".')"
      ],
      "metadata": {
        "colab": {
          "base_uri": "https://localhost:8080/"
        },
        "id": "S0ykaTQJ50fY",
        "outputId": "64bead58-409b-4a5d-b5dd-848ca05b1e38"
      },
      "execution_count": 23,
      "outputs": [
        {
          "output_type": "stream",
          "name": "stdout",
          "text": [
            "\"SDK\" stands for \"Software Development Kit\", whereas\n",
            "\"IDE\" stands for \"Integrated Development Environment\".\n"
          ]
        }
      ]
    },
    {
      "cell_type": "markdown",
      "source": [
        "#Exercise 6\n",
        "##Practice and check the output\n",
        "<p>\n",
        "print(\"python is an \\\"awesome\\\" language.\")<br>\n",
        "print(\"python\\n\\t2023\")<br>\n",
        "print('I\\'m from Entri.\\b')<br>\n",
        "print(\"\\65\")<br>\n",
        "print(\"\\x65\")<br>\n",
        "print(\"Entri\", \"2023\", sep=\"\\n\")<br>\n",
        "print(\"Entri\", \"2023\", sep=\"\\b\")<br>\n",
        "print(\"Entri\", \"2023\", sep=\"*\", end=\"\\b\\b\\b\\b\")\n",
        "</p>"
      ],
      "metadata": {
        "id": "pgWwXWsU6R8p"
      }
    },
    {
      "cell_type": "code",
      "source": [
        "print(\"python is an \\\"awesome\\\" language.\") # The escape character \\ allow to include double quotes inside double quotes"
      ],
      "metadata": {
        "colab": {
          "base_uri": "https://localhost:8080/"
        },
        "id": "AGYLsFxg7E8A",
        "outputId": "0824c283-5e13-4015-98a2-e851e46d6049"
      },
      "execution_count": 34,
      "outputs": [
        {
          "output_type": "stream",
          "name": "stdout",
          "text": [
            "python is an \"awesome\" language.\n"
          ]
        }
      ]
    },
    {
      "cell_type": "code",
      "source": [
        "print(\"python\\n\\t2023\")                     # \\n new line \\t tab"
      ],
      "metadata": {
        "colab": {
          "base_uri": "https://localhost:8080/"
        },
        "id": "ni502ai2GpI1",
        "outputId": "05e5c762-55af-43d6-e02b-4b57ee55a64a"
      },
      "execution_count": 35,
      "outputs": [
        {
          "output_type": "stream",
          "name": "stdout",
          "text": [
            "python\n",
            "\t2023\n"
          ]
        }
      ]
    },
    {
      "cell_type": "code",
      "source": [
        "print('I\\'m from Entri.\\b')                 # The escape character \\ allow to include single quotes inside single quotes and \\b is back space"
      ],
      "metadata": {
        "colab": {
          "base_uri": "https://localhost:8080/"
        },
        "id": "mMQbm4VIGykN",
        "outputId": "240c0242-320d-4056-fe6f-199b2a055368"
      },
      "execution_count": 36,
      "outputs": [
        {
          "output_type": "stream",
          "name": "stdout",
          "text": [
            "I'm from Entri.\b\n"
          ]
        }
      ]
    },
    {
      "cell_type": "code",
      "source": [
        "print(\"\\65\")                                # \\65 is considered as an octal value so it's going to print its equvalent ascii char which is 5"
      ],
      "metadata": {
        "colab": {
          "base_uri": "https://localhost:8080/"
        },
        "id": "SrGf3xD3G2wd",
        "outputId": "6aa573ef-dbfa-4ce8-f17c-59701dbe8b4c"
      },
      "execution_count": 37,
      "outputs": [
        {
          "output_type": "stream",
          "name": "stdout",
          "text": [
            "5\n"
          ]
        }
      ]
    },
    {
      "cell_type": "code",
      "source": [
        "print(\"\\x65\")                               # \\x65 is considered as hexadecimal value so it's going to print its equvalent ascii char which is e"
      ],
      "metadata": {
        "colab": {
          "base_uri": "https://localhost:8080/"
        },
        "id": "VMitLRlLG6I1",
        "outputId": "45f4392f-87ca-4078-cecd-b74d4f4abe05"
      },
      "execution_count": 38,
      "outputs": [
        {
          "output_type": "stream",
          "name": "stdout",
          "text": [
            "e\n"
          ]
        }
      ]
    },
    {
      "cell_type": "code",
      "source": [
        "print(\"Entri\", \"2023\", sep=\"\\n\")            # The first argument to the print() function is the string \"Entri\". The second argument to the print() function is the string \"2023\".\n",
        "                                            # The sep argument is used to specify the separator string that is inserted between the arguments passed to the print() function. In this case, the separator string is set to \"\\n\", which is the newline character.\n",
        "                                            # When the print() function is called, it will print the first string \"Entri\", followed by a newline character, and then print the second string \"2023\"."
      ],
      "metadata": {
        "colab": {
          "base_uri": "https://localhost:8080/"
        },
        "id": "b0XuhIKlHJmm",
        "outputId": "553c1e65-ea20-4eb7-a97f-e04636414b70"
      },
      "execution_count": 39,
      "outputs": [
        {
          "output_type": "stream",
          "name": "stdout",
          "text": [
            "Entri\n",
            "2023\n"
          ]
        }
      ]
    },
    {
      "cell_type": "code",
      "source": [
        "print(\"Entri\", \"2023\", sep=\"\\b\")            # Here the sep argument is \\b back space so its going to print arguments followed by back space so the i in Entri will be removed"
      ],
      "metadata": {
        "colab": {
          "base_uri": "https://localhost:8080/"
        },
        "id": "-PQKTfx2HRJ2",
        "outputId": "212df9c4-877a-47b7-fbc8-6ed4c0299c3a"
      },
      "execution_count": 41,
      "outputs": [
        {
          "output_type": "stream",
          "name": "stdout",
          "text": [
            "Entri\b2023\n"
          ]
        }
      ]
    },
    {
      "cell_type": "code",
      "source": [
        "print(\"Entri\", \"2023\", sep=\"*\", end=\"\\b\\b\\b\\b\") # Here the sep argument is * character so it's going to print Entri followed by * then 2023 but hear the end argument is \"\\b\\b\\b\\b\"\n",
        "                                                # that's going run backspace 4 times and remove 4 characters from the end"
      ],
      "metadata": {
        "colab": {
          "base_uri": "https://localhost:8080/"
        },
        "id": "_ax--2A0HabF",
        "outputId": "5b36c127-e4ad-4b69-8d9e-9c14f99bd8a8"
      },
      "execution_count": 43,
      "outputs": [
        {
          "output_type": "stream",
          "name": "stdout",
          "text": [
            "Entri*2023\b\b\b\b"
          ]
        }
      ]
    },
    {
      "cell_type": "markdown",
      "source": [
        "#Exercise 7\n",
        "##Define the variables below. Print the types of each variable. What is the sum of your variables? (Hint: use a type conversion function.) What datatype is the sum?\n",
        "<p>\n",
        "num=23<br>\n",
        "textnum=\"57\"<br>\n",
        "decimal=98.3\n",
        "</p>"
      ],
      "metadata": {
        "id": "gEDwZ5WUICbu"
      }
    },
    {
      "cell_type": "code",
      "source": [
        "num=23\n",
        "textnum=\"57\"\n",
        "decimal=98.3\n",
        "print(f\"Type of num is {type(num)}\\nType of textnum is {type(textnum)}\\nType of decimal is {type(decimal)}\")\n",
        "print(f\"The sum of variables = {num + float(textnum) + decimal}\")"
      ],
      "metadata": {
        "colab": {
          "base_uri": "https://localhost:8080/"
        },
        "id": "QtDFhm_xIk6P",
        "outputId": "93bfaa12-d959-4187-bd88-a1c28d6994f8"
      },
      "execution_count": 48,
      "outputs": [
        {
          "output_type": "stream",
          "name": "stdout",
          "text": [
            "Type of num is <class 'int'>\n",
            "Type of textnum is <class 'str'>\n",
            "Type of decimal is <class 'float'>\n",
            "The sum of variables = 178.3\n"
          ]
        }
      ]
    },
    {
      "cell_type": "markdown",
      "source": [
        "#Exercise 8\n",
        "##calculate the number of minutes in a year using variables for each unit of time. print a statement that describes what your code does also. Create three variables to store no of days in a year, minute in a hour, hours in a day, then calculate the total minutes in a year and print the values\n",
        "###(hint) total number of minutes in an year =No.of days in an year * Hours in a day * Minutes in an hour"
      ],
      "metadata": {
        "id": "S0gqwaxSKzLo"
      }
    },
    {
      "cell_type": "code",
      "source": [
        "no_of_days_in_a_year = 365\n",
        "minute_in_a_hour = 60\n",
        "hours_in_a_day = 24\n",
        "print(\"The code calculates and prints the total number of minutes in a year, assuming there are 365 days in a year, 24 hours in a day, and 60 minutes in an hour.\")\n",
        "print(f\"The total number of minutes in an year = {no_of_days_in_a_year * hours_in_a_day * minute_in_a_hour}\")"
      ],
      "metadata": {
        "colab": {
          "base_uri": "https://localhost:8080/"
        },
        "id": "EMb34NmVLQAI",
        "outputId": "748a5e76-21d5-4ea6-803a-d2bb4c862571"
      },
      "execution_count": 53,
      "outputs": [
        {
          "output_type": "stream",
          "name": "stdout",
          "text": [
            "The code calculates and prints the total number of minutes in a year, assuming there are 365 days in a year, 24 hours in a day, and 60 minutes in an hour.\n",
            "The total number of minutes in an year = 525600\n"
          ]
        }
      ]
    },
    {
      "cell_type": "markdown",
      "source": [
        "#Exercise 9\n",
        "##Write Python code that asks the user to enter his/her name and then output/prints his/her name with a greeting.\n",
        "###An example runs of the program:\n",
        "<p>Please enter your name: Tony<br>\n",
        "Hi Tony, welcome to Python programming :)</p>"
      ],
      "metadata": {
        "id": "Vjc7hYeFQ6Np"
      }
    },
    {
      "cell_type": "code",
      "source": [
        "name = input(\"Please enter your name: \")\n",
        "print(\"Hi\",name,\"welcome to Python programming :)\")"
      ],
      "metadata": {
        "colab": {
          "base_uri": "https://localhost:8080/"
        },
        "id": "406_lYpoRRUl",
        "outputId": "0a396e85-9504-48cf-9348-f6f4f0efcc10"
      },
      "execution_count": 55,
      "outputs": [
        {
          "output_type": "stream",
          "name": "stdout",
          "text": [
            "Please enter your name: Tony\n",
            "Hi Tony welcome to Python programming :)\n"
          ]
        }
      ]
    },
    {
      "cell_type": "markdown",
      "source": [
        "#Exercise 10\n",
        "##Name your file: PoundsToDollars.py\n",
        "##Write a program that asks the user to enter an amount in pounds (£) and the program calculates and converts an amount in dollar (\\$)\n",
        "###An example runs of the program:<br>Please enter amount in pounds: XXX<br>£XXX are $ XXX"
      ],
      "metadata": {
        "id": "U760r0cuR_zh"
      }
    },
    {
      "cell_type": "code",
      "source": [
        "pounds = float(input(\"Enter an amount in pounds : \"))\n",
        "Pound_x_factor = 1.2562168  # defines the equivalent $ of a £\n",
        "print(f\"£{pounds} are ${pounds * Pound_x_factor}\")"
      ],
      "metadata": {
        "colab": {
          "base_uri": "https://localhost:8080/"
        },
        "id": "fjsxBCTMTFO6",
        "outputId": "c73b1ef9-b0ed-4fa4-f346-d47985a57180"
      },
      "execution_count": 60,
      "outputs": [
        {
          "output_type": "stream",
          "name": "stdout",
          "text": [
            "Enter an amount in pounds : 23\n",
            "£23.0 are $28.8929864\n"
          ]
        }
      ]
    }
  ]
}