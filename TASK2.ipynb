{
  "nbformat": 4,
  "nbformat_minor": 0,
  "metadata": {
    "colab": {
      "provenance": [],
      "authorship_tag": "ABX9TyNUzvNA0X24FUOSwfMnUXtm",
      "include_colab_link": true
    },
    "kernelspec": {
      "name": "python3",
      "display_name": "Python 3"
    },
    "language_info": {
      "name": "python"
    }
  },
  "cells": [
    {
      "cell_type": "markdown",
      "metadata": {
        "id": "view-in-github",
        "colab_type": "text"
      },
      "source": [
        "<a href=\"https://colab.research.google.com/github/aneeshmurali-n/Python-Tasks/blob/main/TASK2.ipynb\" target=\"_parent\"><img src=\"https://colab.research.google.com/assets/colab-badge.svg\" alt=\"Open In Colab\"/></a>"
      ]
    },
    {
      "cell_type": "markdown",
      "source": [
        "#1. Write a Python program to sum all the items in a list.\n",
        "\n",
        "\n"
      ],
      "metadata": {
        "id": "Jy5xfDTzgEkM"
      }
    },
    {
      "cell_type": "code",
      "execution_count": null,
      "metadata": {
        "colab": {
          "base_uri": "https://localhost:8080/"
        },
        "id": "B4DOjUmYfzws",
        "outputId": "45d99d34-3b07-4acf-dec2-9d35ea331d7f"
      },
      "outputs": [
        {
          "output_type": "stream",
          "name": "stdout",
          "text": [
            "The sum of elements in the num_list =  5179\n"
          ]
        }
      ],
      "source": [
        "num_list = [20,30,40,50,60,4979] #defining list having elements 20,30,40,50,60,4979\n",
        "sum = 0                          #initialize sum variable to hold the sum\n",
        "for num in num_list :            #itrate through num_list with itration variable num\n",
        "    sum += num                   #adding current element on the num with the sum and save the result in sum\n",
        "print(\"The sum of elements in the num_list = \",sum)                       #print the result when the loop exit"
      ]
    },
    {
      "cell_type": "markdown",
      "source": [
        "#2. Write a Python program to get the largest number from a list.\n"
      ],
      "metadata": {
        "id": "yQJ11eTomPp8"
      }
    },
    {
      "cell_type": "code",
      "source": [
        "num_list = [20,30,40,50,60,4979] #defining list having elements 20,30,40,50,60,4979\n",
        "print(\"The largest number in the num_list = \",max(num_list)) # finding the largest in the list with max function and print result"
      ],
      "metadata": {
        "colab": {
          "base_uri": "https://localhost:8080/"
        },
        "id": "SNWGzMb-mY5M",
        "outputId": "98afa3ce-a03a-4e95-fe09-786189728bd4"
      },
      "execution_count": null,
      "outputs": [
        {
          "output_type": "stream",
          "name": "stdout",
          "text": [
            "The largest number in the num_list =  4979\n"
          ]
        }
      ]
    },
    {
      "cell_type": "markdown",
      "source": [
        "#3. Write a Python program to count the number of strings from a given list of strings. The string length is 2 or more and the first and last characters are the same.\n",
        "##Sample List : ['abc', 'xyz', 'aba', '1221']\n",
        "##Expected Result : 2\n"
      ],
      "metadata": {
        "id": "B7b0d-dPpaUr"
      }
    },
    {
      "cell_type": "code",
      "source": [
        "given_list = ['abc', 'xyz', 'aba', '1221']\n",
        "count = 0\n",
        "for string in given_list :\n",
        "    if len(string)>=2 and string[0] == string[-1] : #The string length is 2 or more and the first and last characters are the same.\n",
        "        count += 1                                  #increment count\n",
        "print(count)                                        #print count"
      ],
      "metadata": {
        "colab": {
          "base_uri": "https://localhost:8080/"
        },
        "id": "T2_MhldPqG5W",
        "outputId": "cc75c308-e297-468a-8786-f61f62857c5d"
      },
      "execution_count": null,
      "outputs": [
        {
          "output_type": "stream",
          "name": "stdout",
          "text": [
            "2\n"
          ]
        }
      ]
    },
    {
      "cell_type": "markdown",
      "source": [
        "#4. Write a Python program to remove duplicates from a list."
      ],
      "metadata": {
        "id": "02MntH0quKOt"
      }
    },
    {
      "cell_type": "markdown",
      "source": [
        "for without changing order"
      ],
      "metadata": {
        "id": "LRFMZOMuwGVE"
      }
    },
    {
      "cell_type": "code",
      "source": [
        "given_list = ['abc', 'xyz','hh','aba', '1221','abc',123,456,'hh']\n",
        "output_list=[]                                                      # make empty list to hold output\n",
        "for element in given_list :                                         # itrate through given list\n",
        "    if element not in output_list :                                 # if the current element is not present in the output_list then\n",
        "        output_list.append(element)                                 # append that element to the output_list\n",
        "print(output_list)                                                  # print the output_list\n",
        "\n"
      ],
      "metadata": {
        "colab": {
          "base_uri": "https://localhost:8080/"
        },
        "id": "XmFFOsMSvDqs",
        "outputId": "1f5f7770-1ac7-4f24-ce0a-3c87a87cab75"
      },
      "execution_count": null,
      "outputs": [
        {
          "output_type": "stream",
          "name": "stdout",
          "text": [
            "['abc', 'xyz', 'hh', 'aba', '1221', 123, 456]\n"
          ]
        }
      ]
    },
    {
      "cell_type": "markdown",
      "source": [
        "if the order is not matter then simpley"
      ],
      "metadata": {
        "id": "1o3-jssdxyvr"
      }
    },
    {
      "cell_type": "code",
      "source": [
        "given_list = ['abc', 'xyz','hh','aba', '1221','abc',123,456,'hh']\n",
        "print(list(set(given_list)))  #type cast the given_list into set to remove duplicates and the type cast it back to list and print it"
      ],
      "metadata": {
        "colab": {
          "base_uri": "https://localhost:8080/"
        },
        "id": "qxFjDeBqximV",
        "outputId": "c38bb0dd-882f-4ca4-86a5-f798a81b1336"
      },
      "execution_count": null,
      "outputs": [
        {
          "output_type": "stream",
          "name": "stdout",
          "text": [
            "['xyz', 456, 'abc', 'hh', 'aba', 123, '1221']\n"
          ]
        }
      ]
    },
    {
      "cell_type": "markdown",
      "source": [
        "#5. Write a Python program to check if a list is empty or not."
      ],
      "metadata": {
        "id": "ivf0icXw1i-M"
      }
    },
    {
      "cell_type": "code",
      "source": [
        "list1 = ['abc', 'xyz','hh','aba', '1221','abc',123,456,'hh']  # non empty list\n",
        "list2 = []                                                    # empty list\n",
        "error = False                                                 # selection error tracking\n",
        "choise = input(\"\"\"Choose list for the test:\n",
        "Enter 1 for list1\n",
        "Enter 2 for list2\n",
        "\"\"\")                                                        # prompt the user list selection, take user input into the variable choise\n",
        "if choise == '1' :                                          # if the choise is 1 then the set the selected_list is the view of list1\n",
        "    selected_list = list1\n",
        "elif choise == '2' :                                        # if it's 2 selected_list is the view of list2\n",
        "    selected_list = list2\n",
        "else :                                                      # if its not 1 or 2 then prompt error and update error tracker flag\n",
        "    print(f\"Error input '{choise}' please enter 1 for list1, 2 for list2\") # \"Error input 'entered choise' please enter 1 for list1, 2 for list2\"\n",
        "    error = True                                                           # set error flag\n",
        "\n",
        "if not error :\n",
        "    if len(selected_list) == 0 :                                               # check the selected_list length is zero or not if it's zero\n",
        "        print(f\"The selected list{choise} is an empty list\")                   # print \"The selected 'list{choise}' is an empty list\"\n",
        "    else :                                                                     # if its not print \"The selected list{choise} is not an empty list and the list{choise} is {selected_list}\"\n",
        "        print(f\"The selected list{choise} is not an empty list and the list{choise} is {selected_list}\")"
      ],
      "metadata": {
        "colab": {
          "base_uri": "https://localhost:8080/"
        },
        "id": "iiJtFLAE1iQs",
        "outputId": "ce881871-2a1d-43fe-b81d-58248a4c04bd"
      },
      "execution_count": null,
      "outputs": [
        {
          "output_type": "stream",
          "name": "stdout",
          "text": [
            "Choose list for the test:                                             \n",
            "Enter 1 for list1\n",
            "Enter 2 for list2\n",
            "1\n",
            "The selected list1 is not an empty list and the list1 is ['abc', 'xyz', 'hh', 'aba', '1221', 'abc', 123, 456, 'hh']\n"
          ]
        }
      ]
    },
    {
      "cell_type": "markdown",
      "source": [
        "#6. Write a Python program to filter the list if the length of the character is < 4\n",
        "##Sample List : ['abc', 'xyz', 'aba', '1221']\n",
        "##Expected Result: ['abc', 'xyz', 'aba']"
      ],
      "metadata": {
        "id": "FnmJauiTWxxG"
      }
    },
    {
      "cell_type": "code",
      "source": [
        "Sample_List = ['abc', 'xyz', 'aba', '1221']\n",
        "print([element for element in Sample_List if len(element)<4]) # itrate through Sample_list and check each element length in the list, if it's less then 4 append and print the new list"
      ],
      "metadata": {
        "colab": {
          "base_uri": "https://localhost:8080/"
        },
        "id": "EKQkznZ7XtSF",
        "outputId": "d688388b-2e89-4e39-b918-1a2203aec28f"
      },
      "execution_count": null,
      "outputs": [
        {
          "output_type": "stream",
          "name": "stdout",
          "text": [
            "['abc', 'xyz', 'aba']\n"
          ]
        }
      ]
    },
    {
      "cell_type": "markdown",
      "source": [
        "#7.Write a Python program to find the second largest number in a list.\n"
      ],
      "metadata": {
        "id": "IaRH5sS_ahEd"
      }
    },
    {
      "cell_type": "code",
      "source": [
        "number_list = [1,2,3,4,5,6,7,8,9,10,11,12,13,14,1000,99]                        # created a number list\n",
        "list_copy = number_list.copy()                                                  # make a copy to avoid alteration in the main list (number_list)\n",
        "list_copy.remove(max(number_list))                                              # remove the largest number from the copied list. max(number_list) returns the largest number in the number_list, so the first largest number is gone\n",
        "print(f\"{max(list_copy)} is the second largest number in the list\")             # find max of list_copy which is the second largest number and print it"
      ],
      "metadata": {
        "colab": {
          "base_uri": "https://localhost:8080/"
        },
        "id": "Y80u0ctJapRn",
        "outputId": "cd7b254d-bf10-4d47-c8d2-912e93307870"
      },
      "execution_count": null,
      "outputs": [
        {
          "output_type": "stream",
          "name": "stdout",
          "text": [
            "99 is the second largest number in the list\n"
          ]
        }
      ]
    },
    {
      "cell_type": "markdown",
      "source": [
        "#8. Write a Python program to reverse a list at a specific location.\n"
      ],
      "metadata": {
        "id": "aPf33G54ekrt"
      }
    },
    {
      "cell_type": "code",
      "source": [
        "input_list = ['apple','mac','banana','windows',1,2,3,4,5,6,7,8,9,10,'linux']            # list to reverse at specific location\n",
        "index_input_data = input(\"Enter specific location to reverse the list in the format: start_index,end_index  :\") # prompt the user to enter specific location to reverse the list and save the user input in 'index_input_data'\n",
        "start_index,end_index = map(int,index_input_data.split(','))                            # split 'index_input_data' at ',' and pass to int() to type cast and unpack that into start_index,end_index variables using map function\n",
        "input_list[start_index : end_index+1] = input_list[start_index : end_index+1][::-1]     # pdating index of input_list from start_index to end_index+1 with a reversed slised sub list 'input_list[start_index : end_index+1][::-1]'\n",
        "                                                                                        # here 'input_list[start_index : end_index+1]' this makes the sub list and [::-1] this will reverse that\n",
        "print(f\"The reversed list at location '{index_input_data}' is {input_list}\")            # print the output"
      ],
      "metadata": {
        "id": "LbYIONQNer0R",
        "colab": {
          "base_uri": "https://localhost:8080/"
        },
        "outputId": "d5d56a90-ac80-4694-8916-ccbf98bff6b5"
      },
      "execution_count": null,
      "outputs": [
        {
          "output_type": "stream",
          "name": "stdout",
          "text": [
            "Enter specific location to reverse the list in the format: start_index,end_index  :0,3\n",
            "The reversed list at location '0,3' is ['windows', 'banana', 'mac', 'apple', 1, 2, 3, 4, 5, 6, 7, 8, 9, 10, 'linux']\n"
          ]
        }
      ]
    },
    {
      "cell_type": "markdown",
      "source": [
        "#9. Write a Python program to check if a list is a palindrome or not. Return true otherwise false.\n",
        "palindrome : a word, phrase, or sequence that reads the same backwards as forwards, e.g. madam"
      ],
      "metadata": {
        "id": "B6TfF42vso22"
      }
    },
    {
      "cell_type": "code",
      "source": [
        "def is_palindrome(check_list):\n",
        "    if len(check_list) > 1:                                                   # check list length to find number of elements if it's greater than 1  then\n",
        "        if check_list == check_list[::-1]:                                    # compare the list with it's reverse, if it's same\n",
        "            return True                                                       # return True\n",
        "        else:                                                                 # if it's not\n",
        "            return False                                                      # return False\n",
        "    else :                                                                    # if the list contains only an element then\n",
        "        if check_list[0] == check_list[0][::-1] :                             # compare the element with it's reverse, if it's true\n",
        "            print(f\"The list contains only an element '{check_list[0]}' which is palindrome\") # print \"The list contains only an element '{check_list[0]}' which is palindrome\"\n",
        "            return True                                                       # return true\n",
        "        else :\n",
        "            print(f\"The list contains only an element '{check_list[0]}' which is not palindrome\") # if it's not true then print \"The list contains only an element '{check_list[0]}' which is not palindrome\"\n",
        "            return False                                                      # False\n",
        "\n",
        "data_list = input(\"Enter list elements separated by commas : \").split(',') # get user input string and split at ',' which returns a list of elements and save that to the data_list\n",
        "print(is_palindrome(data_list))                                            # pass the data_list into the function is_palindrome which check and return true or false depending on the input list"
      ],
      "metadata": {
        "colab": {
          "base_uri": "https://localhost:8080/"
        },
        "id": "L-1JP163ss4t",
        "outputId": "c29b6113-1709-4325-ed23-e90a326ca8d3"
      },
      "execution_count": 12,
      "outputs": [
        {
          "output_type": "stream",
          "name": "stdout",
          "text": [
            "Enter list elements separated by commas : 123\n",
            "The list contains only an element '123' which is not palindrome\n",
            "False\n"
          ]
        }
      ]
    },
    {
      "cell_type": "markdown",
      "source": [
        "#10. Write a Python a program to find the union and intersection of two lists.\n",
        "\n",
        "<p>Definition : The union of two sets A and B is the set of all those elements which are either in A or in B, whereas the intersection of two sets A and B is the set of all elements which are common.<br>\n",
        "eg : For a union and an intersection example, use the set A = {1,2,3,4,5,6} and the set B = {3,5,7,9,10}. The union of sets A and B is the set {1,2,3,4,5,6,7,9,10}. The intersection of sets A and B is the set {3,5}.\n",
        "</p>\n",
        "<p>\n",
        "<h2>Python set operation</h2>\n",
        "'|' for union.<br>'&' for intersection.<br>'–' for difference<br>'^' for symmetric difference\n",
        "</p>"
      ],
      "metadata": {
        "id": "QYz2klPe9ie1"
      }
    },
    {
      "cell_type": "code",
      "source": [
        "\n",
        "List_A = input(\"Enter list A elements Separated by commas: \").split(',') # getting list_A element string from the user input and split at ',' that will return list_A\n",
        "List_B = input(\"Enter list B elements Separated by commas: \").split(',') # getting list_B element string from the user input and split at ',' that will return list_B\n",
        "try:                                                                     # attempting to convert the string elements into int using map function and convert that into list and save that into the List_A and List_B\n",
        "    List_A = list(map(int,List_A))                                       # if the attempt success the List_A and List_B is changed to it's intiger equivalent\n",
        "    List_B = list(map(int,List_B))                                       # we are doing this because the sort() function do not works well with int values in string type\n",
        "except:                                                                  # if the attempt failed the except block will run having pass which do nothing but pass so we continue with original values in List_A , List_b\n",
        "    pass\n",
        "A = set(List_A)                                                          # make set A with List_A\n",
        "B = set(List_B)                                                          # make set B with List_B\n",
        "U = list(A|B)                                                            # make a union list U by doing A|B operation then convert the union set into union list U\n",
        "I = list(A&B)                                                            # make an intersection list I by doing A&B operation then convert the intersection set into intersection list I\n",
        "U.sort()                                                                 # using sort() function the elements I and U list are arranged in order\n",
        "I.sort()\n",
        "print(f\"\\nThe union of Lists A and B is = {U}\")                          # print union and intersection lists\n",
        "print(f\"The intersection of Lists A and B is = {I}\")"
      ],
      "metadata": {
        "colab": {
          "base_uri": "https://localhost:8080/"
        },
        "id": "Fy1KkbP_CkU_",
        "outputId": "8f1eeca3-c227-4fd6-c4a8-90339a80a076"
      },
      "execution_count": null,
      "outputs": [
        {
          "output_type": "stream",
          "name": "stdout",
          "text": [
            "Enter list A elements Separated by commas: 1,2,3,4,5,6\n",
            "Enter list B elements Separated by commas: 3,5,7,9,10\n",
            "\n",
            "The union of Lists A and B is = [1, 2, 3, 4, 5, 6, 7, 9, 10]\n",
            "The intersection of Lists A and B is = [3, 5]\n"
          ]
        }
      ]
    },
    {
      "cell_type": "markdown",
      "source": [
        "#11.Write a Python script to sort (ascending and descending) a dictionary by value"
      ],
      "metadata": {
        "id": "VsVlWP6QqyDa"
      }
    },
    {
      "cell_type": "code",
      "source": [
        "# defining a function for  sort(ascending and descending) a dictionary by value, Syntax sort_dict_by_value(dictionary,True or false True=Ascending False= Descending)\n",
        "def sort_dict_by_value(dict_data, ascending = True):\n",
        "    sorted_d_by_value = sorted(dict_data.items(), key = lambda item : item[1], reverse = not ascending) # sorted(iterable, key=key, reverse=reverse) key A Function to execute to decide the order. Default is None\n",
        "    return dict(sorted_d_by_value)                                                                      # return after converting the sorted list of tuples where the tuples are sorted by their second element \"value\" into dictionary\n",
        "\n",
        "\"\"\"When we pass key=lambda item: item[1] to the sorted() function, the lambda function takes a single argument item, which is a tuple containing a key and its corresponding value.\n",
        "\n",
        "The item[1] expression in the lambda function represents the second element of the tuple, which is the value.\n",
        "\n",
        "So, when we pass key=lambda item: item[1] to the sorted() function, it returns a sorted list of tuples where the tuples are sorted by their second element\"\"\"\n",
        "\n",
        "\n",
        "\n",
        "fruits_dict = {'apple': 11, 'banana': 2, 'orange': 4, 'cherry': 15, 'mango':150}                    # dictionary\n",
        "print(f\"fruits_dict = {fruits_dict}\\n\")                                                             # print dictionary\n",
        "choise = input(\"Enter 1 for sort ascending by value\\nEnter 2 for sort descending by value\\n\")       # prompt the user and get input 'choise' from user to perform sort\n",
        "if choise == '1' :                                                                                  # if the choise is 1 call the function sort_dict_by_value() with the second argument = True\n",
        "    print(sort_dict_by_value(fruits_dict, True))                                                    # which returns sorted dictionary by value in ascending order and print it\n",
        "elif choise == '2':                                                                                 # if the choise is 2 call the function sort_dict_by_value() with the second argument = False\n",
        "    print(sort_dict_by_value(fruits_dict, False))                                                   # which returns sorted dictionary by value in descending order and print it\n",
        "else:                                                                                               # if entered choise is not 1 or 2 then print \"Input Error\"\\\n",
        "    print(\"Input Error!\")\n",
        "\n"
      ],
      "metadata": {
        "id": "iml1UxzIq8CD",
        "colab": {
          "base_uri": "https://localhost:8080/"
        },
        "outputId": "3fda0ac3-5fe1-4832-dfba-cc1f4acc1d09"
      },
      "execution_count": 59,
      "outputs": [
        {
          "output_type": "stream",
          "name": "stdout",
          "text": [
            "fruits_dict = {'apple': 11, 'banana': 2, 'orange': 4, 'cherry': 15, 'mango': 150}\n",
            "\n",
            "Enter 1 for sort ascending by value\n",
            "Enter 2 for sort descending by value\n",
            "1\n",
            "{'banana': 2, 'orange': 4, 'apple': 11, 'cherry': 15, 'mango': 150}\n"
          ]
        }
      ]
    },
    {
      "cell_type": "markdown",
      "source": [
        "#12. Write a Python script to check whether a given key already exists in a dictionary.\n"
      ],
      "metadata": {
        "id": "JvSYYCkaJ1tK"
      }
    },
    {
      "cell_type": "code",
      "source": [
        "# defining a function to to check if it's already exists in a dictionary Syntax : check_key(dictionary,key to check)\n",
        "def check_key(dictionary,key):\n",
        "    if key in dictionary :      # if the input key is present in the input dictionary\n",
        "        return True             # return True\n",
        "    else:                       # if not\n",
        "        return False            # return False\n",
        "\n",
        "\n",
        "fruits_dict = {'apple': 11, 'banana': 2, 'orange': 4, 'cherry': 15, 'mango':150}                    # dictionary\n",
        "KEY = input(\"Enter a key to check if it's already exists in a dictionary : \")                       # prompting user to enter key and getting key from the user input\n",
        "print(check_key(fruits_dict, KEY))                                                                  # call the function check_key() with args fruits_dict, KEY and print what the function returns"
      ],
      "metadata": {
        "colab": {
          "base_uri": "https://localhost:8080/"
        },
        "id": "NKVk6-sJKGYK",
        "outputId": "aee19e4d-71a8-4ea9-b771-45880e5ba0bd"
      },
      "execution_count": 68,
      "outputs": [
        {
          "output_type": "stream",
          "name": "stdout",
          "text": [
            "Enter a key to check if it's already exists in a dictionary : cherry\n",
            "True\n"
          ]
        }
      ]
    },
    {
      "cell_type": "markdown",
      "source": [
        "#13.Write a Python program to sum all the values in a dictionary.\n"
      ],
      "metadata": {
        "id": "ZolS5waoRg7c"
      }
    },
    {
      "cell_type": "code",
      "source": [
        "fruits_dict = {'apple': 11, 'banana': 2, 'orange': 4, 'cherry': 15, 'mango':150}   # dictionary\n",
        "print(\"The sum of values in fruits_dict is : \", sum(fruits_dict.values()))         # syntax sum(iterable, start) iterable:Required The sequence to sum, start: Optional. A value that is added to the return value by default 0"
      ],
      "metadata": {
        "colab": {
          "base_uri": "https://localhost:8080/"
        },
        "id": "dW9eHmmZRqIU",
        "outputId": "eb951e3b-173b-42ea-df04-f40d0a284fd6"
      },
      "execution_count": 85,
      "outputs": [
        {
          "output_type": "stream",
          "name": "stdout",
          "text": [
            "The sum of values in fruits_dict is :  182\n"
          ]
        }
      ]
    },
    {
      "cell_type": "markdown",
      "source": [
        "#14.Write a Python program to create a dictionary with a number and its corresponding square from 1 to input number. And also check if the input number is less than 10\n",
        "<p>Eg:<br>\n",
        "Input : 3<br>\n",
        "Output : {1:1, 2:4, 3:9}</p>\n"
      ],
      "metadata": {
        "id": "Hw7MhkgRadDW"
      }
    },
    {
      "cell_type": "code",
      "source": [
        "num_square_dict = {}                               # create an empty dictionary\n",
        "try:\n",
        "    num = int(input(\"Enter a number to create dictionary with a number and its corresponding square from 1 to input number : \")) # getting input number from user and type cast into int and save to num if it blow up # run except block\n",
        "    if num <= 0 :     # if number less than or equals to zero then raise error so it will blow up and run except block\n",
        "        raise\n",
        "    elif num < 10 :\n",
        "        print(\"The input number is less than 10\")\n",
        "    elif num == 10:\n",
        "        print(\"The input number is 10\")\n",
        "    else:\n",
        "        print(\"The input number is greater than 10\")\n",
        "    for KEY in range(1,num+1):                          # iterate through the values from 1 to the input number + 1 thats going to give vlaues from 1 to the input number\n",
        "        num_square_dict[KEY] = KEY**2                   # here the KEY is the iteration variable so 'num_square_dict[KEY] = KEY**2' it will assign key and its square to the dictionary 'num_square_dict'\n",
        "    print(f\"Input : {num} \\nOutput : {num_square_dict}\") # print the input and ouput result as per the question example\n",
        "except:\n",
        "    print(f\"Input Error!\")"
      ],
      "metadata": {
        "colab": {
          "base_uri": "https://localhost:8080/"
        },
        "id": "RHgZ2gvzaxRm",
        "outputId": "a22830e5-1468-4093-a74d-1919de90f06b"
      },
      "execution_count": 148,
      "outputs": [
        {
          "output_type": "stream",
          "name": "stdout",
          "text": [
            "Enter a number to create dictionary with a number and its corresponding square from 1 to input number : 3\n",
            "The input number is less than 10\n",
            "Input : 3 \n",
            "Output : {1: 1, 2: 4, 3: 9}\n"
          ]
        }
      ]
    },
    {
      "cell_type": "markdown",
      "source": [
        "#15.Write a Python program to sort a given dictionary by key."
      ],
      "metadata": {
        "id": "PGssX4h6yza9"
      }
    },
    {
      "cell_type": "code",
      "source": [
        "# defining a function for  sort(ascending and descending) a dictionary by key, Syntax sort_dict_by_value(dictionary,True or false True=Ascending False= Descending)\n",
        "def sort_dict_by_value(dict_data, ascending = True):\n",
        "    sorted_d_by_value = sorted(dict_data.items(), key = lambda item : item[0], reverse = not ascending) # sorted(iterable, key=key, reverse=reverse) key A Function to execute to decide the order. Default is None\n",
        "    return dict(sorted_d_by_value)                                                                      # return after converting the sorted list of tuples where the tuples are sorted by their first element \"value\" into dictionary\n",
        "\n",
        "\"\"\"When we pass key=lambda item: item[0] to the sorted() function, the lambda function takes a single argument item, which is a tuple containing a key and its corresponding value.\n",
        "\n",
        "The item[0] expression in the lambda function represents the first element of the tuple, which is the key.\n",
        "\n",
        "So, when we pass key=lambda item: item[0] to the sorted() function, it returns a sorted list of tuples where the tuples are sorted by their first element\"\"\"\n",
        "\n",
        "\n",
        "\n",
        "fruits_dict = {'Apple': 11, 'Banana': 2, 'Orange': 4, 'Cherry': 15, 'Mango':150, 'Date':200, 'Elderberry':20 }      # dictionary\n",
        "print(f\"fruits_dict = {fruits_dict}\\n\")                                                                             # print dictionary\n",
        "print(f\"Sorted fruits_dict =  {sort_dict_by_value(fruits_dict, True)}\")                                             # which returns sorted dictionary by key in ascending order and print it"
      ],
      "metadata": {
        "colab": {
          "base_uri": "https://localhost:8080/"
        },
        "id": "HL_TMy35zI-s",
        "outputId": "77223e03-9cf7-4599-81b1-58e818129086"
      },
      "execution_count": 153,
      "outputs": [
        {
          "output_type": "stream",
          "name": "stdout",
          "text": [
            "fruits_dict = {'Apple': 11, 'Banana': 2, 'Orange': 4, 'Cherry': 15, 'Mango': 150, 'Date': 200, 'Elderberry': 20}\n",
            "\n",
            "Sorted fruits_dict =  {'Apple': 11, 'Banana': 2, 'Cherry': 15, 'Date': 200, 'Elderberry': 20, 'Mango': 150, 'Orange': 4}\n"
          ]
        }
      ]
    },
    {
      "cell_type": "markdown",
      "source": [
        "#16.  Write a Python program to create a dictionary from a string.\n",
        "<p>Note: Track the count of the letters from the string.<br>\n",
        "Sample string : 'learnpython'<br>\n",
        "Expected output: {'l': 1, 'e': 1, 'a': 1, 'r': 1, 'n': 2, 'p': 1, 'y': 1, 't': 1, 'h': 1, 'o': 1}</p>\n"
      ],
      "metadata": {
        "id": "g1ido5hR1xvO"
      }
    },
    {
      "cell_type": "code",
      "source": [
        "sample_string = 'learnpython'\n",
        "string_dict = {} # create an empty dictionary 'string_dict'\n",
        "for char in sample_string : # iterate through every char in sample_string\n",
        "    string_dict[char] = sample_string.count(char) # set key as char and vale as count of that char in sample_string\n",
        "print(f\"Sample string : '{sample_string}'\\nOutput : {string_dict}\") # print input sample string and output dictionary"
      ],
      "metadata": {
        "colab": {
          "base_uri": "https://localhost:8080/"
        },
        "id": "mAFFiovx2RWB",
        "outputId": "b530b047-aa85-47d7-e185-343afad230f8"
      },
      "execution_count": 165,
      "outputs": [
        {
          "output_type": "stream",
          "name": "stdout",
          "text": [
            "Sample string : 'learnpython'\n",
            "Output : {'l': 1, 'e': 1, 'a': 1, 'r': 1, 'n': 2, 'p': 1, 'y': 1, 't': 1, 'h': 1, 'o': 1}\n"
          ]
        }
      ]
    },
    {
      "cell_type": "markdown",
      "source": [
        "#17. Write a Python program to get the top three items in a shop.\n",
        "<p>Sample data: {'item1': 45.50, 'item2':35, 'item3': 41.30, 'item4':55, 'item5': 24}<br>\n",
        "Expected Output:<br>\n",
        "item4 55<br>\n",
        "item1 45.5<br>\n",
        "item3 41.3</p>\n"
      ],
      "metadata": {
        "id": "Bf9Syaek5g_t"
      }
    },
    {
      "cell_type": "code",
      "source": [
        "# defining a function for  sort(ascending and descending) a dictionary by value, Syntax sort_dict_by_value(dictionary,True or false True=Ascending False= Descending)\n",
        "def sort_dict_by_value(dict_data, ascending = True):\n",
        "    sorted_d_by_value = sorted(dict_data.items(), key = lambda item : item[1], reverse = not ascending) # sorted(iterable, key=key, reverse=reverse) key A Function to execute to decide the order. Default is None\n",
        "    return dict(sorted_d_by_value)                    # return after converting the sorted list of tuples where the tuples are sorted by their second element \"value\" into dictionary\n",
        "\n",
        "\n",
        "sample_data_dict =  {'item1': 45.50, 'item2':35, 'item3': 41.30, 'item4':55, 'item5': 24} # sample data dictionary\n",
        "sort_sample_data_dict = sort_dict_by_value(sample_data_dict,False)   # calling sort_dict_by_value function to sort the sample data dictionary by value in descending order and save the sorted dictionary as sort_sample_data_dict\n",
        "top3_items = list(sort_sample_data_dict.keys())[:3] # after sorting making a list 'top3_items' with the first 3 keys\n",
        "print(\"The top three items in the shop :\") # print head line \"The top three items in the shop :\"\n",
        "for item in top3_items :                   # iterate through top3_items list with item as iteration variable\n",
        "    print(f\"{item} {sort_sample_data_dict.get(item)}\") # print each item in the top3_items list with its corresponding value in the sorted dictionary 'sort_sample_data_dict'"
      ],
      "metadata": {
        "colab": {
          "base_uri": "https://localhost:8080/"
        },
        "id": "dwj2dp6c3K2v",
        "outputId": "b8fad671-7013-43ff-c4db-f892d651e207"
      },
      "execution_count": 187,
      "outputs": [
        {
          "output_type": "stream",
          "name": "stdout",
          "text": [
            "The top three items in the shop :\n",
            "item4 55\n",
            "item1 45.5\n",
            "item3 41.3\n"
          ]
        }
      ]
    }
  ]
}