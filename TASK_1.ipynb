{
  "nbformat": 4,
  "nbformat_minor": 0,
  "metadata": {
    "colab": {
      "provenance": [],
      "authorship_tag": "ABX9TyOj888xQL/E+RBwxuYt2QwC"
    },
    "kernelspec": {
      "name": "python3",
      "display_name": "Python 3"
    },
    "language_info": {
      "name": "python"
    }
  },
  "cells": [
    {
      "cell_type": "markdown",
      "source": [
        "# TASK 1.1      Write a python program to find those numbers which are divisible by 7 and **multiples** of 5, for user input."
      ],
      "metadata": {
        "id": "mFu4LiVCSDOq"
      }
    },
    {
      "cell_type": "code",
      "source": [
        "UserInput = input(\"Enter the range of numbers separated by commas   : \")\n",
        "input_test = True                                                   # input_test is normaly true\n",
        "if \",\" in UserInput :                                               # find , in User input if true else notify the user about the error\n",
        "    UserIP_Elements = UserInput.split(',')                          # then split user input at , and save the elements to list\n",
        "    num_elements = len(UserIP_Elements)                             # find how many elements are there and save to  num_elements\n",
        "    for elements in UserIP_Elements :                               # itrate through UserIp_Elements\n",
        "        if elements.isnumeric() :                                   # check the element numeric or not\n",
        "            continue                                                # if numeric skip and check next element\n",
        "        else :                                                      # else print and notify the user what's wrong , update input_test\n",
        "             print(f\"\"\"Entered input is in incorrect format. {UserInput}\n",
        "              found non-numeric characters in your input.\n",
        "              please enter the range of numbers separated by commas eg: 4,100\n",
        "              \"\"\")\n",
        "             input_test = False\n",
        "             break                                                  # then break the for loop so we dont want to waste any cpu cycle\n",
        "    if num_elements > 2 :                                           # if num_elements > 2 notify the user what's wrong, update input_test\n",
        "        print(f\"\"\"Entered input is in incorrect format. {UserInput}\n",
        "              Input contains more than 2 values.\n",
        "              please enter the range of numbers separated by commas eg: 4,100\n",
        "              \"\"\")\n",
        "        input_test = False\n",
        "    elif num_elements < 2 :                                           # if num_elements < 2 notify the user what's wrong, update input_test\n",
        "        print(f\"\"\"Entered input is in incorrect format. {UserInput}\n",
        "              Input cannot be less than 2 values.\n",
        "              please enter the range of numbers separated by commas eg: 4,100\n",
        "              \"\"\")\n",
        "        input_test = False\n",
        "else :\n",
        "    print(\"\"\"You forgot to include ','.\n",
        "    Please enter the range of numbers separated by commas, e.g., 4,100.\"\"\")\n",
        "    input_test = False\n",
        "\n",
        "output = []                                                                             # make an empty list 'output' to store whole output numbers\n",
        "if num_elements == 2 and input_test :                                                   # if num_elements is 2 and input_test true then run the main code\n",
        "    if int(UserIP_Elements[1]) == 0 :                                                   # test range is zero if it is pop error to the user\n",
        "        print(\"Error range cannot be zero, Please enter the range of numbers separated by commas, e.g., 4,100.\")\n",
        "    else :\n",
        "        for num in range(int(UserIP_Elements[0]), int(UserIP_Elements[1]) + 1) :            # generate list of numbers from the user input and iterat through num\n",
        "            if (num != 0) and (num % 7 == 0) and (num % 5 == 0) :                           # skip 0 and check which divisible by 7 and multiples of 5 then append that\n",
        "                output.append(num)                                                          # into the output list\n",
        "        print(f\"The numbers which are divisible by 7 and multiples of 5 for the given range {UserIP_Elements[0]} to {UserIP_Elements[1]} are :\")\n",
        "        print(', '.join(map(str, output)))                                                  # print output without \"[ ]\"\n",
        "                                                                                            # we use the join() method. The join() method concatenates the elements of an iterable (such as a list) into a string, with a specified delimiter between each element.\n",
        "                                                                                            # In this case, we want to use a comma and a space as the delimiter, so we pass the string ', ' as the argument to the join() method.\n",
        "                                                                                            # However, the join() method expects an iterable of strings as its argument, so we need to convert each element of the list to a string first. We can do this using the map() function.\n",
        "                                                                                            # The map() function applies a given function to each element of an iterable and returns a new iterable with the results. In this case, we use the map() function to apply the str() function to each element of the list, converting each integer to a string.\n",
        "                                                                                            # Finally, we print the resulting string using the print() function."
      ],
      "metadata": {
        "colab": {
          "base_uri": "https://localhost:8080/"
        },
        "id": "nFoeLAEXSEFJ",
        "outputId": "5b77d459-c24d-490b-c76d-9e249a308553"
      },
      "execution_count": null,
      "outputs": [
        {
          "output_type": "stream",
          "name": "stdout",
          "text": [
            "Enter the range of numbers separated by commas   : 100,400\n",
            "The numbers which are divisible by 7 and multiples of 5 for the given range 100 to 400 are :\n",
            "105, 140, 175, 210, 245, 280, 315, 350, 385\n"
          ]
        }
      ]
    },
    {
      "cell_type": "markdown",
      "source": [
        "# TASK 1.2   Write a python program to check the user input is even or odd or zero."
      ],
      "metadata": {
        "id": "h9bI3re27idP"
      }
    },
    {
      "cell_type": "markdown",
      "source": [],
      "metadata": {
        "id": "PAelYxXdiUcC"
      }
    },
    {
      "cell_type": "code",
      "execution_count": null,
      "metadata": {
        "colab": {
          "base_uri": "https://localhost:8080/"
        },
        "id": "pMLfDBRM0-GX",
        "outputId": "a3514c27-1e52-4d5e-a0c4-217268311c2e"
      },
      "outputs": [
        {
          "output_type": "stream",
          "name": "stdout",
          "text": [
            "Enter a number: 0\n",
            "  \n",
            "    I'd like to clarify that zero is neither even nor odd. Let me explain why.\n",
            "    Even numbers are those that can be divided by 2 without leaving any remainder, \n",
            "    while odd numbers are those that cannot be divided by 2 without leaving a remainder. \n",
            "    For example, 6 is even because 6 divided by 2 equals 3 (with no remainder), and 7 is odd \n",
            "    because 7 divided by 2 equals 3 with a remainder of 1.\n",
            "    Now, when we look at zero, we find that it doesn't fit into either category.\n",
            "    This is because when we divide any number by 2, we get a remainder of 0 if the number is even, \n",
            "    and a remainder of 1 if the number is odd. However, when we divide zero by 2, \n",
            "    it's not applicable to divide anything by zero, as it's an undefined operation in mathematics. \n",
            "    So, zero is neither even nor odd because it doesn't follow the same division rules as other numbers.\n"
          ]
        }
      ],
      "source": [
        "number = int(input(\"Enter a number: \"))\n",
        "if number == 0:\n",
        "    print(\"\"\"\n",
        "    I'd like to clarify that zero is neither even nor odd. Let me explain why.\n",
        "    Even numbers are those that can be divided by 2 without leaving any remainder,\n",
        "    while odd numbers are those that cannot be divided by 2 without leaving a remainder.\n",
        "    For example, 6 is even because 6 divided by 2 equals 3 (with no remainder), and 7 is odd\n",
        "    because 7 divided by 2 equals 3 with a remainder of 1.\n",
        "    Now, when we look at zero, we find that it doesn't fit into either category.\n",
        "    This is because when we divide any number by 2, we get a remainder of 0 if the number is even,\n",
        "    and a remainder of 1 if the number is odd. However, when we divide zero by 2,\n",
        "    it's not applicable to divide anything by zero, as it's an undefined operation in mathematics.\n",
        "    So, zero is neither even nor odd because it doesn't follow the same division rules as other numbers.\"\"\")\n",
        "elif number % 2 == 0:\n",
        "    print(number, 'is \"even\"')\n",
        "else:\n",
        "    print(number, 'is \"odd\"')"
      ]
    },
    {
      "cell_type": "markdown",
      "source": [
        "# TASK 1.3   Print decimal part of an input number. If the decimal part is zero print the string : “INTEGER”"
      ],
      "metadata": {
        "id": "efMr6_J_AgTi"
      }
    },
    {
      "cell_type": "code",
      "source": [
        "input_data = input(\"Enter a number : \")                                                             # take input from user and save to input_data\n",
        "try:                                                                                                # attempt to type cast input_data to float and save to input_number if it fails meas it's not a number then except block will rum\n",
        "    input_number = float(input_data)                                                                # set flag input_data_is_number = True\n",
        "    input_data_is_number = True\n",
        "except :                                                                                            # pop error message to the user \"Error: Entered value '{input_data}' is not a number \"\n",
        "    print(f\"Error: Entered value '{input_data}' is not a number \")\n",
        "    input_data_is_number = False                                                                    # set set flag input_data_is_number = False\n",
        "if(input_data_is_number) :                                                                          # if input_data_is_number make a list by type casting float variable 'input_number' to string and spliting at '.' to get the left and right side of the number\n",
        "    split_input_number = str(input_number).split('.')                                               # and save that to 'split_input_number' list\n",
        "    if('.' in input_data) :                                                                         # if '.' in input_data then split input_data at '.' and save the list split_input_data this is for showing the exact decimal value that the user entered\n",
        "        split_input_data = input_data.split('.')                                                    # then print the decimal part of the input number that the split_input_data list is holding on it's index 1\n",
        "        print(f\"The decimal part of the input number {input_data} is : '.{split_input_data[1]}' \")\n",
        "    else :                                                                                          # else print The input value {input_data} doesn't have any decimal\n",
        "        print(f\"The input value {input_data} doesn't have any decimal\")\n",
        "    if( int(split_input_number[1]) == 0) :                                                          # check the index 1 of split_input_number list which holds the decimal part of input_number, if it is zero print \"INTEGER\"\n",
        "        print(\"INTEGER\")"
      ],
      "metadata": {
        "colab": {
          "base_uri": "https://localhost:8080/",
          "height": 373
        },
        "id": "L3XgVW-QXI5C",
        "outputId": "53e41da5-0085-48b6-c1d9-26881badeb66"
      },
      "execution_count": 1,
      "outputs": [
        {
          "output_type": "error",
          "ename": "KeyboardInterrupt",
          "evalue": "Interrupted by user",
          "traceback": [
            "\u001b[0;31m---------------------------------------------------------------------------\u001b[0m",
            "\u001b[0;31mKeyboardInterrupt\u001b[0m                         Traceback (most recent call last)",
            "\u001b[0;32m<ipython-input-1-3e9a9c07cd38>\u001b[0m in \u001b[0;36m<cell line: 1>\u001b[0;34m()\u001b[0m\n\u001b[0;32m----> 1\u001b[0;31m \u001b[0minput_data\u001b[0m \u001b[0;34m=\u001b[0m \u001b[0minput\u001b[0m\u001b[0;34m(\u001b[0m\u001b[0;34m\"Enter a number : \"\u001b[0m\u001b[0;34m)\u001b[0m                                                             \u001b[0;31m# take input from user and save to input_data\u001b[0m\u001b[0;34m\u001b[0m\u001b[0;34m\u001b[0m\u001b[0m\n\u001b[0m\u001b[1;32m      2\u001b[0m \u001b[0;32mtry\u001b[0m\u001b[0;34m:\u001b[0m                                                                                                \u001b[0;31m# attempt to type cast input_data to float and save to input_number if it fails meas it's not a number then except block will rum\u001b[0m\u001b[0;34m\u001b[0m\u001b[0;34m\u001b[0m\u001b[0m\n\u001b[1;32m      3\u001b[0m     \u001b[0minput_number\u001b[0m \u001b[0;34m=\u001b[0m \u001b[0mfloat\u001b[0m\u001b[0;34m(\u001b[0m\u001b[0minput_data\u001b[0m\u001b[0;34m)\u001b[0m                                                                \u001b[0;31m# set flag input_data_is_number = True\u001b[0m\u001b[0;34m\u001b[0m\u001b[0;34m\u001b[0m\u001b[0m\n\u001b[1;32m      4\u001b[0m     \u001b[0minput_data_is_number\u001b[0m \u001b[0;34m=\u001b[0m \u001b[0;32mTrue\u001b[0m\u001b[0;34m\u001b[0m\u001b[0;34m\u001b[0m\u001b[0m\n\u001b[1;32m      5\u001b[0m \u001b[0;32mexcept\u001b[0m \u001b[0;34m:\u001b[0m                                                                                            \u001b[0;31m# pop error message to the user \"Error: Entered value '{input_data}' is not a number \"\u001b[0m\u001b[0;34m\u001b[0m\u001b[0;34m\u001b[0m\u001b[0m\n",
            "\u001b[0;32m/usr/local/lib/python3.10/dist-packages/ipykernel/kernelbase.py\u001b[0m in \u001b[0;36mraw_input\u001b[0;34m(self, prompt)\u001b[0m\n\u001b[1;32m    849\u001b[0m                 \u001b[0;34m\"raw_input was called, but this frontend does not support input requests.\"\u001b[0m\u001b[0;34m\u001b[0m\u001b[0;34m\u001b[0m\u001b[0m\n\u001b[1;32m    850\u001b[0m             )\n\u001b[0;32m--> 851\u001b[0;31m         return self._input_request(str(prompt),\n\u001b[0m\u001b[1;32m    852\u001b[0m             \u001b[0mself\u001b[0m\u001b[0;34m.\u001b[0m\u001b[0m_parent_ident\u001b[0m\u001b[0;34m,\u001b[0m\u001b[0;34m\u001b[0m\u001b[0;34m\u001b[0m\u001b[0m\n\u001b[1;32m    853\u001b[0m             \u001b[0mself\u001b[0m\u001b[0;34m.\u001b[0m\u001b[0m_parent_header\u001b[0m\u001b[0;34m,\u001b[0m\u001b[0;34m\u001b[0m\u001b[0;34m\u001b[0m\u001b[0m\n",
            "\u001b[0;32m/usr/local/lib/python3.10/dist-packages/ipykernel/kernelbase.py\u001b[0m in \u001b[0;36m_input_request\u001b[0;34m(self, prompt, ident, parent, password)\u001b[0m\n\u001b[1;32m    893\u001b[0m             \u001b[0;32mexcept\u001b[0m \u001b[0mKeyboardInterrupt\u001b[0m\u001b[0;34m:\u001b[0m\u001b[0;34m\u001b[0m\u001b[0;34m\u001b[0m\u001b[0m\n\u001b[1;32m    894\u001b[0m                 \u001b[0;31m# re-raise KeyboardInterrupt, to truncate traceback\u001b[0m\u001b[0;34m\u001b[0m\u001b[0;34m\u001b[0m\u001b[0m\n\u001b[0;32m--> 895\u001b[0;31m                 \u001b[0;32mraise\u001b[0m \u001b[0mKeyboardInterrupt\u001b[0m\u001b[0;34m(\u001b[0m\u001b[0;34m\"Interrupted by user\"\u001b[0m\u001b[0;34m)\u001b[0m \u001b[0;32mfrom\u001b[0m \u001b[0;32mNone\u001b[0m\u001b[0;34m\u001b[0m\u001b[0;34m\u001b[0m\u001b[0m\n\u001b[0m\u001b[1;32m    896\u001b[0m             \u001b[0;32mexcept\u001b[0m \u001b[0mException\u001b[0m \u001b[0;32mas\u001b[0m \u001b[0me\u001b[0m\u001b[0;34m:\u001b[0m\u001b[0;34m\u001b[0m\u001b[0;34m\u001b[0m\u001b[0m\n\u001b[1;32m    897\u001b[0m                 \u001b[0mself\u001b[0m\u001b[0;34m.\u001b[0m\u001b[0mlog\u001b[0m\u001b[0;34m.\u001b[0m\u001b[0mwarning\u001b[0m\u001b[0;34m(\u001b[0m\u001b[0;34m\"Invalid Message:\"\u001b[0m\u001b[0;34m,\u001b[0m \u001b[0mexc_info\u001b[0m\u001b[0;34m=\u001b[0m\u001b[0;32mTrue\u001b[0m\u001b[0;34m)\u001b[0m\u001b[0;34m\u001b[0m\u001b[0;34m\u001b[0m\u001b[0m\n",
            "\u001b[0;31mKeyboardInterrupt\u001b[0m: Interrupted by user"
          ]
        }
      ]
    },
    {
      "cell_type": "code",
      "source": [],
      "metadata": {
        "colab": {
          "base_uri": "https://localhost:8080/"
        },
        "id": "J7jrCLGnKx5j",
        "outputId": "7b6c7521-aa68-4635-82e2-23033ed1bef8"
      },
      "execution_count": null,
      "outputs": [
        {
          "output_type": "stream",
          "name": "stdout",
          "text": [
            "Enter a string to check: a\n",
            "No, the string is not a float number.\n"
          ]
        }
      ]
    },
    {
      "cell_type": "markdown",
      "source": [
        "#Find prime or not from the user input\n",
        "Definition of Prime Number: A prime number is a natural number greater than 1 that has no positive divisors other than 1 and itself."
      ],
      "metadata": {
        "id": "3_z3pZ3y8TLo"
      }
    },
    {
      "cell_type": "code",
      "source": [
        "number = int(input(\"Enter a number : \"))\n",
        "if (number < 2):\n",
        "    print(f\"{number} is not a prime number\")\n",
        "else :\n",
        "    Prime = True\n",
        "    for num in range(2, number, 1):\n",
        "        if(number % num == 0):\n",
        "            Prime = False\n",
        "            break\n",
        "    if Prime :\n",
        "        print(f\"{number} is a prime number\")\n",
        "    else :\n",
        "        print(f\"{number} is not a prime number\")"
      ],
      "metadata": {
        "colab": {
          "base_uri": "https://localhost:8080/"
        },
        "id": "t63MMbIo8ShI",
        "outputId": "ed5fd3e7-09cb-4394-b5ff-571a60143876"
      },
      "execution_count": null,
      "outputs": [
        {
          "output_type": "stream",
          "name": "stdout",
          "text": [
            "Enter a number : -3\n",
            "-3 is not a prime number\n"
          ]
        }
      ]
    }
  ]
}